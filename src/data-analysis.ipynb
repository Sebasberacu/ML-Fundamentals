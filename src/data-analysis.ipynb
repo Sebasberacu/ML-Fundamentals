{
 "cells": [
  {
   "cell_type": "markdown",
   "metadata": {},
   "source": [
    "**Escuela de Ingeniería en Computación**\n",
    "\n",
    "**IC6200 - Inteligencia Artificial - Proyecto 1 - Machine Learning**\n",
    "\n",
    "**Estudiantes:**\n",
    "\n",
    "Gerald Núñez Chavarría, Sebastián Arroniz, Sebastián Bérmudez.\n",
    "\n",
    "**Profesor:**\n",
    "\n",
    "Kenneth Obando Rodríguez\n",
    "\n",
    "**Fecha de entrega:**\n",
    "\n",
    "26/04/2024"
   ]
  },
  {
   "cell_type": "markdown",
   "metadata": {},
   "source": [
    "## **1. Entendimiento del Negocio**\n",
    "A continuación se presentan los objetivos del negocio y de la aplicación de la minería de datos en este proyecto de machine-learning, el cuál esta basado en el set de datos llamado \"Costa Rican Household Poverty Level Prediction\". \n",
    "### **1.1 Objetivo del Negocio**\n",
    "**Objetivo 1:** El principal objetivo del negocio es mejorar la precisión de la clasificación de hogares en niveles de pobreza utilizando modelos de machine learning, lo que permitirá a las agencias dirigir de manera más efectiva los recursos hacia quienes más lo necesitan.\n",
    "\n",
    "**Criterio de éxito:** El modelo predice el 90% de los casos de manera correcta. \n",
    "\n",
    "### **1.2 Objetivo de la Minería de Datos**\n",
    "\n",
    "**Objetivo 1:** Limpieza y preparación de datos: Preparar el conjunto de datos \"Costa Rican Household Poverty Level Prediction\" para su análisis y modelado, eliminando valores atípicos, tratando los valores faltantes y transformando variables según sea necesario. **Criterio de éxito:** Lograr un conjunto de datos limpio y completo listo para su análisis, con menos del 10% de datos faltantes y variables transformadas de manera adecuada. \n",
    "\n",
    "**Objetivo 2:** Análisis exploratorio de datos: Realizar un análisis exploratorio de los datos para comprender la distribución de las variables, identificar posibles relaciones y determinar la relevancia de las características para la predicción del nivel de pobreza del hogar. **Criterio de éxito:** Identificación de al menos X variables con alta correlación con el nivel de pobreza del hogar, y comprensión clara de la distribución de las características en el conjunto de datos.\n",
    "\n",
    "**Objetivo 3:** Seleccionar y entrenar un modelo de clasificación/regresión que brinde una mayor precisión para la predicción del nivel de pobreza. **Criterio de éxito:** El modelo predice al menos un X% y se valida mediante la técnica \"croos validation\". \n"
   ]
  },
  {
   "cell_type": "markdown",
   "metadata": {},
   "source": [
    "## **2. Entendimientos de los Datos**\n",
    "\n",
    "A continuación, se presenta de dónde se obtienen los datos y además, se describen los datos, se seleccionan variables importantes, se realizan ajustes y se verifica la calidad de los datos. \n",
    "\n",
    "### **2.1 Recolección Inicial de Datos.**\n",
    "\n",
    "Lo primero, es obtener el set de datos a utilizar, que es el de \"Costa Rican Household Poverty Level Prediction\", para esto, se descarga el archivo test.csv y train.csv que se encuentran en la página Kaggle en el siguiente link: https://www.kaggle.com/competitions/costa-rican-household-poverty-prediction/data. Los archivos se agregan en el directorio llamado `docs` y dentro del subdirectorio llamado `data`."
   ]
  },
  {
   "cell_type": "code",
   "execution_count": 5,
   "metadata": {},
   "outputs": [],
   "source": [
    "# for data manipulation\n",
    "import pandas as pd\n",
    "import numpy as np\n",
    "\n",
    "# read train and test data creating a pandas data frame\n",
    "df_train = pd.read_csv('../docs/data/train.csv')\n",
    "df_test = pd.read_csv('../docs/data/test.csv')\n"
   ]
  },
  {
   "cell_type": "markdown",
   "metadata": {},
   "source": [
    "Para verificar que la lectura de datos fue exitosa podemos llamar a la función `.head()` para mostrar las primeras cinco filas de cada set de datos (train y test)"
   ]
  },
  {
   "cell_type": "code",
   "execution_count": null,
   "metadata": {},
   "outputs": [],
   "source": [
    "df_train.head()"
   ]
  },
  {
   "cell_type": "code",
   "execution_count": null,
   "metadata": {},
   "outputs": [],
   "source": [
    "df_test.head()"
   ]
  },
  {
   "cell_type": "markdown",
   "metadata": {},
   "source": [
    "### **2.2 Descripción de los Datos**\n",
    "A partir de ahora se trabaja únicamente con los datos de entrenamiento. Debido a que estos son los que el modelo utiliza para aprender. Por esto se les debe analizar, describir, limpiar, modificar, etc... para obtener información valiosa para el modelo. Porqué si en el modelo **\"entra basura, sale basura\"**. \n",
    "\n",
    "En esta sección se muestra el tamaño, variables principales a utilizar, cantidad de registros y tipos de variables de los set de datos `train`."
   ]
  },
  {
   "cell_type": "markdown",
   "metadata": {},
   "source": [
    "Primero, obtengamos la cantidad de filas y de columnas:"
   ]
  },
  {
   "cell_type": "code",
   "execution_count": null,
   "metadata": {},
   "outputs": [],
   "source": [
    "df_train.shape"
   ]
  },
  {
   "cell_type": "markdown",
   "metadata": {},
   "source": [
    "Se puede observar que son 9957 filas y 143 columnas. Podemos obtener más detalles utilzando la función `info()`. "
   ]
  },
  {
   "cell_type": "code",
   "execution_count": null,
   "metadata": {},
   "outputs": [],
   "source": [
    "df_train.info()"
   ]
  },
  {
   "cell_type": "markdown",
   "metadata": {},
   "source": [
    "Las filas empiezan desde la 0 y llegan hasta la 9556. Las columnas empiezan desde Id y llegan hasta Target. Los tipos de datos son flotantes(8), enteros(130) y objetos(5).\n",
    "\n",
    "En el sito de Kaggle https://www.kaggle.com/competitions/costa-rican-household-poverty-prediction/data puede observar el nombre de las 143 columnas y su significado. "
   ]
  },
  {
   "cell_type": "markdown",
   "metadata": {},
   "source": [
    "### **2.3 Exploración de los Datos**\n",
    "Para realizar la exploración de los datos, se van a seleccionar seis variables principales para poder describir y analizar un poco sobre los datos, las variables seleccionadas son: `rooms`, `escolari`, `hogar_total`, `age`, `overcrowding`, `meaneduc`. \n",
    "\n",
    "El motivo de selección se debe a su potencial para poder clasificar el estado económico de los hogares. Por ejemplo, `rooms` podría estar relacionada con el tamaño de la vivienda y, por lo tanto, con las condiciones de vida, mientras que `escolari` (años de escolaridad) y `meaneduc` (años de educación promedio) podrían estar relacionadas con el nivel educativo de los miembros del hogar, lo cual es un factor importante en el desarrollo y la movilidad económica. `hogar_total` (número total de personas en el hogar) y `age` (edad) también podrían proporcionar información importante sobre la composición y la demografía del hogar. `overcrowding` (sobrepoblación) es otra variable que podría indicar condiciones de vida inadecuadas si hay demasiadas personas por habitación en el hogar.\n",
    "\n",
    "Ahora, apliquemos a estas variables la función `describe()` que permite obtener estadísticas de los datos en estas variables. Las estadíscticas que se obtienen son: Cuenta el número de observaciones no NA/nulas (`count`), el máximo de los valores del objeto (`max`), el mínimo de los valores del objeto(`min`), la media de los valores (`mean`) y la desviación estándar de las observaciones (`std`)."
   ]
  },
  {
   "cell_type": "code",
   "execution_count": null,
   "metadata": {},
   "outputs": [],
   "source": [
    "# Select the variables for the data frame and apply describe\n",
    "df_main_variables = df_train[['rooms', 'escolari', 'hogar_total', 'age', 'overcrowding', 'meaneduc']]\n",
    "df_main_variables.describe()"
   ]
  },
  {
   "cell_type": "markdown",
   "metadata": {},
   "source": [
    "Ahora, analizando cada variable con el objetivo de ir obteniendo información valiosa de los datos:\n",
    "\n",
    "1. **rooms (número de habitaciones):**\n",
    "   - La media de 4.96 habitaciones sugiere que, en promedio, las viviendas tienen alrededor de 5 habitaciones.\n",
    "   - La desviación estándar relativamente baja de 1.47 indica que la cantidad de habitaciones tiende a variar poco entre las viviendas.\n",
    "   - La distribución muestra que el mínimo es 1 habitación y el máximo es 11 habitaciones, lo que sugiere una variedad en el tamaño de las viviendas dentro de la muestra.\n",
    "\n",
    "2. **escolari (años de escolaridad):**\n",
    "   - La media de 7.20 años de escolaridad indica que, en promedio, las personas en los hogares tienen poco más de 7 años de educación formal.\n",
    "   - La desviación estándar de 4.73 muestra una variabilidad relativamente alta en el nivel educativo de la muestra.\n",
    "   - La mínima de 0 años sugiere que hay personas sin educación formal en la muestra, mientras que la máxima de 21 años indica que algunas personas tienen educación universitaria o superior.\n",
    "\n",
    "3. **hogar_total (número total de personas en el hogar):**\n",
    "   - La media de aproximadamente 4 personas por hogar sugiere que, en promedio, los hogares tienen alrededor de 4 miembros.\n",
    "   - La desviación estándar de 1.77 indica cierta variabilidad en el tamaño de los hogares.\n",
    "   - La distribución muestra que el tamaño mínimo del hogar es 1 persona y el máximo es 13 personas, lo que sugiere una amplia gama de tamaños de hogar en la muestra.\n",
    "\n",
    "4. **age (edad):**\n",
    "   - La media de 34.30 años indica que la edad promedio en la muestra es de alrededor de 34 años.\n",
    "   - La desviación estándar de 21.61 muestra una variabilidad considerable en las edades de la muestra.\n",
    "   - La mínima de 0 años podría indicar la presencia de bebés o niños muy pequeños en algunos hogares, mientras que la máxima de 97 años sugiere la presencia de personas mayores.\n",
    "\n",
    "5. **overcrowding (sobrepoblación):**\n",
    "   - La media de 1.61 indica que, en promedio, hay alrededor de 1.6 personas por habitación en los hogares de la muestra.\n",
    "   - La desviación estándar de 0.82 sugiere cierta variabilidad en la sobrepoblación entre los hogares.\n",
    "   - La distribución muestra que el mínimo es 0.2 personas por habitación y el máximo es 6 personas por habitación, lo que indica una variedad en las condiciones de vida dentro de la muestra.\n",
    "\n",
    "6. **meaneduc (años de educación promedio en adultos):**\n",
    "   - La media de 9.23 años sugiere que, en promedio, los adultos en los hogares tienen alrededor de 9 años de educación formal.\n",
    "   - La desviación estándar de 4.17 indica una variabilidad considerable en el nivel educativo promedio de los adultos en la muestra.\n",
    "   - La mínima de 0 años podría indicar la presencia de adultos sin educación formal, mientras que la máxima de 37 años indica que algunos adultos tienen una educación muy alta."
   ]
  },
  {
   "cell_type": "markdown",
   "metadata": {},
   "source": [
    "Ahora vamos a realizar un histograma para cada una de las variables, con el objetivo de visualizar graficamente lo ya analizado sobre la distribución de cada variable. "
   ]
  },
  {
   "cell_type": "code",
   "execution_count": null,
   "metadata": {},
   "outputs": [],
   "source": [
    "import matplotlib.pyplot as plt\n",
    "import seaborn as sns\n",
    "\n",
    "# Selected variables\n",
    "main_variables = ['rooms', 'escolari', 'hogar_total', 'age', 'overcrowding', 'meaneduc']\n",
    "\n",
    "# Generate histogram for each variable\n",
    "for variable in main_variables:\n",
    "    plt.figure(figsize=(6, 4))\n",
    "    sns.histplot(df_main_variables[variable], kde=True)\n",
    "    plt.title(f'Histograma de {variable}')\n",
    "    plt.xlabel(variable)\n",
    "    plt.ylabel('Frecuencia')\n",
    "    plt.show()"
   ]
  },
  {
   "cell_type": "markdown",
   "metadata": {},
   "source": [
    "Ahora, para obtener más información, podemos crear un diagrama de pares"
   ]
  },
  {
   "cell_type": "code",
   "execution_count": null,
   "metadata": {},
   "outputs": [],
   "source": [
    "# Create a representation of relation between variables\n",
    "sns.pairplot(df_main_variables[main_variables], \n",
    "             diag_kind = 'kde',\n",
    "             plot_kws={'alpha':0.5, 'size': 0.1})\n",
    "plt.show()"
   ]
  },
  {
   "cell_type": "markdown",
   "metadata": {},
   "source": [
    "Conclusión sobre el gráfico. "
   ]
  },
  {
   "cell_type": "markdown",
   "metadata": {},
   "source": [
    "## **3. Preparación de los Datos**\n",
    "\n",
    "Texto.\n",
    "\n",
    "### **3.1 Selección de los Datos**\n",
    "\n",
    "Texto.\n",
    "\n",
    "### **3.2 Limpieza de los Datos**\n",
    "\n",
    "Texto.\n",
    "\n",
    "### **3.3 Construcción de Nuevos Datos**\n",
    "\n",
    "Texto.\n",
    "\n",
    "### **3.4 Transformaciones Aplicadas a los Datos**\n",
    "\n",
    "Texto."
   ]
  },
  {
   "cell_type": "markdown",
   "metadata": {},
   "source": [
    "## **4. Modelado**"
   ]
  },
  {
   "cell_type": "markdown",
   "metadata": {},
   "source": [
    "## **5. Criterios de Selección**"
   ]
  },
  {
   "cell_type": "markdown",
   "metadata": {},
   "source": [
    "## **6. Conclusiones**"
   ]
  }
 ],
 "metadata": {
  "kernelspec": {
   "display_name": "Python 3",
   "language": "python",
   "name": "python3"
  },
  "language_info": {
   "codemirror_mode": {
    "name": "ipython",
    "version": 3
   },
   "file_extension": ".py",
   "mimetype": "text/x-python",
   "name": "python",
   "nbconvert_exporter": "python",
   "pygments_lexer": "ipython3",
   "version": "3.12.2"
  }
 },
 "nbformat": 4,
 "nbformat_minor": 2
}
