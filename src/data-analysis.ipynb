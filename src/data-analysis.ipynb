{
 "cells": [
  {
   "cell_type": "markdown",
   "metadata": {},
   "source": [
    "**Escuela de Ingeniería en Computación**\n",
    "\n",
    "**IC6200 - Inteligencia Artificial - Proyecto 1 - Machine Learning**\n",
    "\n",
    "**Estudiantes:**\n",
    "\n",
    "Gerald Núñez Chavarría, Sebastián Arroniz, Sebastián Bérmudez.\n",
    "\n",
    "**Profesor:**\n",
    "\n",
    "Kenneth Obando Rodríguez\n",
    "\n",
    "**Fecha de entrega:**\n",
    "\n",
    "26/04/2024"
   ]
  },
  {
   "cell_type": "markdown",
   "metadata": {},
   "source": [
    "## **1. Entendimiento del Negocio**\n",
    "A continuación se presentan los objetivos del negocio y de la aplicación de la minería de datos en este proyecto de machine-learning, el cuál esta basado en el set de datos llamado \"Costa Rican Household Poverty Level Prediction\". \n",
    "### **1.1 Objetivo del Negocio**\n",
    "**Objetivo 1:** El principal objetivo del negocio es mejorar la precisión de la clasificación de hogares en niveles de pobreza utilizando modelos de machine learning, lo que permitirá a las agencias dirigir de manera más efectiva los recursos hacia quienes más lo necesitan.\n",
    "\n",
    "**Criterio de éxito:** El modelo predice el 90% de los casos de manera correcta. \n",
    "\n",
    "### **1.2 Objetivo de la Minería de Datos**\n",
    "\n",
    "**Objetivo 1:** Limpieza y preparación de datos: Preparar el conjunto de datos \"Costa Rican Household Poverty Level Prediction\" para su análisis y modelado, eliminando valores atípicos, tratando los valores faltantes y transformando variables según sea necesario. **Criterio de éxito:** Lograr un conjunto de datos limpio y completo listo para su análisis, con menos del 10% de datos faltantes y variables transformadas de manera adecuada. \n",
    "\n",
    "**Objetivo 2:** Análisis exploratorio de datos: Realizar un análisis exploratorio de los datos para comprender la distribución de las variables, identificar posibles relaciones y determinar la relevancia de las características para la predicción del nivel de pobreza del hogar. **Criterio de éxito:** Identificación de al menos X variables con alta correlación con el nivel de pobreza del hogar, y comprensión clara de la distribución de las características en el conjunto de datos.\n",
    "\n",
    "**Objetivo 3:** Seleccionar y entrenar un modelo de clasificación/regresión que brinde una mayor precisión para la predicción del nivel de pobreza. **Criterio de éxito:** El modelo predice al menos un X% y se valida mediante la técnica \"croos validation\". \n"
   ]
  },
  {
   "cell_type": "markdown",
   "metadata": {},
   "source": [
    "## **2. Entendimientos de los Datos**\n",
    "\n",
    "Texto.\n",
    "\n",
    "### **2.1 Recolección inicial de Datos.**\n",
    "\n",
    "Resto de secciones."
   ]
  },
  {
   "cell_type": "markdown",
   "metadata": {},
   "source": [
    "## **3. Preparación de los Datos**\n",
    "\n",
    "Texto.\n",
    "\n",
    "### **3.1 Selección de los Datos**\n",
    "\n",
    "Texto.\n",
    "\n",
    "### **3.2 Limpieza de los Datos**\n",
    "\n",
    "Texto.\n",
    "\n",
    "### **3.3 Construcción de Nuevos Datos**\n",
    "\n",
    "Texto.\n",
    "\n",
    "### **3.4 Transformaciones Aplicadas a los Datos**\n",
    "\n",
    "Texto."
   ]
  },
  {
   "cell_type": "markdown",
   "metadata": {},
   "source": [
    "## **4. Modelado**"
   ]
  },
  {
   "cell_type": "markdown",
   "metadata": {},
   "source": [
    "## **5. Criterios de Selección**"
   ]
  },
  {
   "cell_type": "markdown",
   "metadata": {},
   "source": [
    "## **6. Conclusiones**"
   ]
  }
 ],
 "metadata": {
  "language_info": {
   "name": "python"
  }
 },
 "nbformat": 4,
 "nbformat_minor": 2
}
