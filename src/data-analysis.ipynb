{
 "cells": [
  {
   "cell_type": "markdown",
   "metadata": {},
   "source": [
    "**Escuela de Ingeniería en Computación**\n",
    "\n",
    "**IC6200 - Inteligencia Artificial - Proyecto 1 - Machine Learning**\n",
    "\n",
    "**Estudiantes:**\n",
    "\n",
    "Gerald Núñez Chavarría, Sebastián Arroniz, Sebastián Bérmudez.\n",
    "\n",
    "**Profesor:**\n",
    "\n",
    "Kenneth Obando Rodríguez\n",
    "\n",
    "**Fecha de entrega:**\n",
    "\n",
    "26/04/2024"
   ]
  },
  {
   "cell_type": "markdown",
   "metadata": {},
   "source": [
    "## **1. Entendimiento del Negocio**\n",
    "A continuación se presentan los objetivos del negocio y de la aplicación de la minería de datos en este proyecto de machine-learning, el cuál esta basado en el set de datos llamado \"Costa Rican Household Poverty Level Prediction\". \n",
    "### **1.1 Objetivo del Negocio**\n",
    "**Objetivo 1:** El principal objetivo del negocio es mejorar la precisión de la clasificación de hogares en niveles de pobreza utilizando modelos de machine learning, lo que permitirá a las agencias dirigir de manera más efectiva los recursos hacia quienes más lo necesitan.\n",
    "\n",
    "**Criterio de éxito:** El modelo predice el 90% de los casos de manera correcta. \n",
    "\n",
    "### **1.2 Objetivo de la Minería de Datos**\n",
    "\n",
    "**Objetivo 1:** Limpieza y preparación de datos: Preparar el conjunto de datos \"Costa Rican Household Poverty Level Prediction\" para su análisis y modelado, eliminando valores atípicos, tratando los valores faltantes y transformando variables según sea necesario. **Criterio de éxito:** Lograr un conjunto de datos limpio y completo listo para su análisis, con menos del 10% de datos faltantes y variables transformadas de manera adecuada. \n",
    "\n",
    "**Objetivo 2:** Análisis exploratorio de datos: Realizar un análisis exploratorio de los datos para comprender la distribución de las variables, identificar posibles relaciones y determinar la relevancia de las características para la predicción del nivel de pobreza del hogar. **Criterio de éxito:** Identificación de al menos X variables con alta correlación con el nivel de pobreza del hogar, y comprensión clara de la distribución de las características en el conjunto de datos.\n",
    "\n",
    "**Objetivo 3:** Seleccionar y entrenar un modelo de clasificación/regresión que brinde una mayor precisión para la predicción del nivel de pobreza. **Criterio de éxito:** El modelo predice al menos un X% y se valida mediante la técnica \"croos validation\". \n"
   ]
  },
  {
   "cell_type": "markdown",
   "metadata": {},
   "source": [
    "## **2. Entendimientos de los Datos**\n",
    "\n",
    "A continuación, se presenta de dónde se obtienen los datos y además, se describen los datos, se seleccionan variables importantes, se realizan ajustes y se verifica la calidad de los datos. \n",
    "\n",
    "### **2.1 Recolección Inicial de Datos.**\n",
    "\n",
    "Lo primero, es obtener el set de datos a utilizar, que es el de \"Costa Rican Household Poverty Level Prediction\", para esto, se descarga el archivo test.csv y train.csv que se encuentran en la página Kaggle en el siguiente link: https://www.kaggle.com/competitions/costa-rican-household-poverty-prediction/data. Los archivos se agregan en el directorio llamado `docs` y dentro del subdirectorio llamado `data`."
   ]
  },
  {
   "cell_type": "code",
   "execution_count": 5,
   "metadata": {},
   "outputs": [],
   "source": [
    "# for data manipulation\n",
    "import pandas as pd\n",
    "import numpy as np\n",
    "\n",
    "# read train and test data creating a pandas data frame\n",
    "df_train = pd.read_csv('../docs/data/train.csv')\n",
    "df_test = pd.read_csv('../docs/data/test.csv')\n"
   ]
  },
  {
   "cell_type": "markdown",
   "metadata": {},
   "source": [
    "Para verificar que la lectura de datos fue exitosa podemos llamar a la función `.head()` para mostrar las primeras cinco filas de cada set de datos (train y test)"
   ]
  },
  {
   "cell_type": "code",
   "execution_count": null,
   "metadata": {},
   "outputs": [],
   "source": [
    "df_train.head()"
   ]
  },
  {
   "cell_type": "code",
   "execution_count": null,
   "metadata": {},
   "outputs": [],
   "source": [
    "df_test.head()"
   ]
  },
  {
   "cell_type": "markdown",
   "metadata": {},
   "source": [
    "### **2.2 Descripción de los Datos**\n",
    "A partir de ahora se trabaja únicamente con los datos de entrenamiento para el modelo, que son los que van a recibir una limpieza, selección o modificación con el objetivo de beneficiar el entrenamiento del modelo. \n",
    "\n",
    "En esta sección se muestra el tamaño, variables principales a utilizar, cantidad de registros y tipos de variables de los set de datos `train`."
   ]
  },
  {
   "cell_type": "markdown",
   "metadata": {},
   "source": [
    "Primero, obtengamos la cantidad de filas y de columnas:"
   ]
  },
  {
   "cell_type": "code",
   "execution_count": null,
   "metadata": {},
   "outputs": [],
   "source": [
    "df_train.shape"
   ]
  },
  {
   "cell_type": "markdown",
   "metadata": {},
   "source": [
    "Se puede observar que son 9957 filas y 143 columnas. Podemos obtener más detalles utilzando la función `info()`. "
   ]
  },
  {
   "cell_type": "code",
   "execution_count": null,
   "metadata": {},
   "outputs": [],
   "source": [
    "df_train.info()"
   ]
  },
  {
   "cell_type": "markdown",
   "metadata": {},
   "source": [
    "Las filas empiezan desde la 0 y llegan hasta la 9556. Las columnas empiezan desde Id y llegan hasta Target. Los tipos de datos son flotantes(8), enteros(130) y objetos(5).\n",
    "\n",
    "En el sito de Kaggle https://www.kaggle.com/competitions/costa-rican-household-poverty-prediction/data puede observar el nombre de las 143 columnas y su significado. "
   ]
  },
  {
   "cell_type": "markdown",
   "metadata": {},
   "source": [
    "## **3. Preparación de los Datos**\n",
    "\n",
    "Texto.\n",
    "\n",
    "### **3.1 Selección de los Datos**\n",
    "\n",
    "Texto.\n",
    "\n",
    "### **3.2 Limpieza de los Datos**\n",
    "\n",
    "Texto.\n",
    "\n",
    "### **3.3 Construcción de Nuevos Datos**\n",
    "\n",
    "Texto.\n",
    "\n",
    "### **3.4 Transformaciones Aplicadas a los Datos**\n",
    "\n",
    "Texto."
   ]
  },
  {
   "cell_type": "markdown",
   "metadata": {},
   "source": [
    "## **4. Modelado**"
   ]
  },
  {
   "cell_type": "markdown",
   "metadata": {},
   "source": [
    "## **5. Criterios de Selección**"
   ]
  },
  {
   "cell_type": "markdown",
   "metadata": {},
   "source": [
    "## **6. Conclusiones**"
   ]
  }
 ],
 "metadata": {
  "kernelspec": {
   "display_name": "Python 3",
   "language": "python",
   "name": "python3"
  },
  "language_info": {
   "codemirror_mode": {
    "name": "ipython",
    "version": 3
   },
   "file_extension": ".py",
   "mimetype": "text/x-python",
   "name": "python",
   "nbconvert_exporter": "python",
   "pygments_lexer": "ipython3",
   "version": "3.12.2"
  }
 },
 "nbformat": 4,
 "nbformat_minor": 2
}
