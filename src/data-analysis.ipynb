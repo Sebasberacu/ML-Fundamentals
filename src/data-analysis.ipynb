{
 "cells": [
  {
   "cell_type": "markdown",
   "metadata": {},
   "source": [
    "**Escuela de Ingeniería en Computación**\n",
    "\n",
    "**IC6200 - Inteligencia Artificial - Proyecto 1 - Machine Learning**\n",
    "\n",
    "**Estudiantes:**\n",
    "\n",
    "Gerald Núñez Chavarría, Sebastián Arroniz, Sebastián Bérmudez.\n",
    "\n",
    "**Profesor:**\n",
    "\n",
    "Kenneth Obando Rodríguez\n",
    "\n",
    "**Fecha de entrega:**\n",
    "\n",
    "26/04/2024"
   ]
  },
  {
   "cell_type": "markdown",
   "metadata": {},
   "source": [
    "# **1. Entendimiento del Negocio**\n",
    "\n",
    "Texto.\n",
    "\n",
    "## **1.1 Objetivos del negocio**\n",
    "\n",
    "Texto.\n",
    "\n",
    "## **1.2 Criterios de Éxito**\n",
    "\n",
    "Texto."
   ]
  },
  {
   "cell_type": "markdown",
   "metadata": {},
   "source": [
    "# **2. Entendimientos de los Datos**\n",
    "\n",
    "Texto.\n",
    "\n",
    "## **2.1 Recolección inicial de Datos.**\n",
    "\n",
    "Resto de secciones."
   ]
  },
  {
   "cell_type": "markdown",
   "metadata": {},
   "source": [
    "# **3. Preparación de los Datos**\n",
    "\n",
    "Texto.\n",
    "\n",
    "## **3.1 Selección de los Datos**\n",
    "\n",
    "Texto.\n",
    "\n",
    "## **3.2 Limpieza de los Datos**\n",
    "\n",
    "Texto.\n",
    "\n",
    "## **3.3 Construcción de Nuevos Datos**\n",
    "\n",
    "Texto.\n",
    "\n",
    "## **3.4 Transformaciones Aplicadas a los Datos**\n",
    "\n",
    "Texto."
   ]
  },
  {
   "cell_type": "markdown",
   "metadata": {},
   "source": [
    "# **4. Modelado**"
   ]
  },
  {
   "cell_type": "markdown",
   "metadata": {},
   "source": [
    "# **5. Criterios de Selección**"
   ]
  },
  {
   "cell_type": "markdown",
   "metadata": {},
   "source": [
    "# **6. Conclusiones**"
   ]
  }
 ],
 "metadata": {
  "language_info": {
   "name": "python"
  }
 },
 "nbformat": 4,
 "nbformat_minor": 2
}
